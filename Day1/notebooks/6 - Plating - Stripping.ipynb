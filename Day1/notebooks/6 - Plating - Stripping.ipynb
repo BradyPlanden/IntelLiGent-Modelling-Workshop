{
 "cells": [
  {
   "cell_type": "markdown",
   "metadata": {},
   "source": [
    "# Modelling lithium plating in PyBaMM\n",
    "\n",
    "This notebook shows how PyBaMM [7] can be used to model both reversible and irreversible lithium plating."
   ]
  },
  {
   "cell_type": "code",
   "execution_count": null,
   "metadata": {},
   "outputs": [],
   "source": [
    "%pip install pybamm -q    # install PyBaMM if it is not installed\n",
    "import pybamm\n",
    "import os\n",
    "import numpy as np\n",
    "import matplotlib.pyplot as plt\n",
    "os.chdir(pybamm.__path__[0]+'/..')"
   ]
  },
  {
   "cell_type": "markdown",
   "metadata": {},
   "source": [
    "The Doyle-Fuller-Newman model [3] is upgraded with three different lithium plating models. Model 1 contains the reversible lithium plating model of O'Kane et al. [6]. Model 2 contains the same model but with the lithium stripping capability removed, making the plating irreversible. Model 3 contains the updated partially reversible plating of O'Kane et al. [7]. The parameters are taken from Chen et al.'s investigation [2] of an LG M50 cell."
   ]
  },
  {
   "cell_type": "code",
   "execution_count": null,
   "metadata": {},
   "outputs": [],
   "source": [
    "# choose models\n",
    "plating_options = [\"reversible\", \"irreversible\", \"partially reversible\"]\n",
    "models = {option: pybamm.lithium_ion.DFN(options={\"lithium plating\": option}, name=option) \n",
    "          for option in plating_options}\n",
    "\n",
    "# pick parameters\n",
    "parameter_values = pybamm.ParameterValues(\"OKane2022\")\n",
    "parameter_values.update({\"Ambient temperature [K]\": 268.15})\n",
    "parameter_values.update({\"Upper voltage cut-off [V]\": 4.21})\n",
    "#parameter_values.update({\"Lithium plating kinetic rate constant [m.s-1]\": 1E-9})\n",
    "parameter_values.update({\"Lithium plating transfer coefficient\": 0.5})\n",
    "parameter_values.update({\"Dead lithium decay constant [s-1]\": 1E-4})"
   ]
  },
  {
   "cell_type": "markdown",
   "metadata": {},
   "source": [
    "A series of simple fast charging experiments based on those of Ren et al. [8] is defined here. We first initialise the model at 0% SoC by performing a C/20 discharge (see more details on how to initialise a model from a simulation in [this notebook](./initialise-model-with-solution.ipynb))."
   ]
  },
  {
   "cell_type": "code",
   "execution_count": null,
   "metadata": {},
   "outputs": [],
   "source": [
    "# specify experiments\n",
    "pybamm.citations.register(\"Ren2018\")\n",
    "\n",
    "experiment_discharge = pybamm.Experiment(\n",
    "    [\n",
    "        (\"Discharge at C/20 until 2.5 V (10 minute period)\",\n",
    "        \"Rest for 1 hour (3 minute period)\")\n",
    "    ]\n",
    ")\n",
    "\n",
    "sims_discharge = []\n",
    "for model in models.values():\n",
    "    sim_discharge = pybamm.Simulation(model, parameter_values=parameter_values, experiment=experiment_discharge)\n",
    "    sol_discharge = sim_discharge.solve(calc_esoh=False)\n",
    "    model.set_initial_conditions_from(sol_discharge, inplace=True)\n",
    "    sims_discharge.append(sim_discharge)"
   ]
  },
  {
   "cell_type": "markdown",
   "metadata": {},
   "source": [
    "And we can now define the different experiments to charge at different C-rates."
   ]
  },
  {
   "cell_type": "code",
   "execution_count": null,
   "metadata": {},
   "outputs": [],
   "source": [
    "C_rates = [\"2C\", \"1C\", \"C/2\", \"C/4\", \"C/8\"]\n",
    "experiments = {}\n",
    "for C_rate in C_rates:\n",
    "    experiments[C_rate] = pybamm.Experiment(\n",
    "    [\n",
    "        (f\"Charge at {C_rate} until 4.2 V\",\n",
    "        \"Hold at 4.2 V until C/20\",\n",
    "        \"Rest for 1 hour\")\n",
    "    ]\n",
    ")"
   ]
  },
  {
   "cell_type": "markdown",
   "metadata": {},
   "source": [
    "Solve the reversible plating model first. The default CasADi [1] solver is used here."
   ]
  },
  {
   "cell_type": "code",
   "execution_count": null,
   "metadata": {},
   "outputs": [],
   "source": [
    "def define_and_solve_sims(model, experiments, parameter_values):\n",
    "    sims = {}\n",
    "    for C_rate, experiment in experiments.items():\n",
    "        sim = pybamm.Simulation(model, experiment=experiment, parameter_values=parameter_values)\n",
    "        sim.solve(calc_esoh=False)\n",
    "        sims[C_rate] = sim\n",
    "        \n",
    "    return sims\n",
    "\n",
    "sims_reversible = define_and_solve_sims(models[\"reversible\"], experiments, parameter_values)"
   ]
  },
  {
   "cell_type": "code",
   "execution_count": null,
   "metadata": {},
   "outputs": [],
   "source": [
    "colors = [\"tab:purple\", \"tab:cyan\", \"tab:red\", \"tab:green\", \"tab:blue\"]\n",
    "linestyles = [\"dashed\", \"dotted\", \"solid\"]\n",
    "\n",
    "param = models[\"reversible\"].param\n",
    "A = parameter_values.evaluate(param.L_y * param.L_z)\n",
    "F = parameter_values.evaluate(param.F)\n",
    "L_n = parameter_values.evaluate(param.n.L)\n",
    "\n",
    "currents = [\n",
    "    \"X-averaged negative electrode interfacial current density\",\n",
    "    \"X-averaged lithium plating interfacial current density\",\n",
    "    \"Sum of x-averaged negative electrode volumetric interfacial current densities\"\n",
    "]\n",
    "\n",
    "def plot(sims):\n",
    "    fig, axs = plt.subplots(2, 2, figsize=(13,9))\n",
    "    for (C_rate,sim), color in zip(sims.items(),colors):\n",
    "        # Isolate final equilibration phase\n",
    "        sol = sim.solution.cycles[0].steps[2]\n",
    "\n",
    "        # Voltage vs time\n",
    "        t = sol[\"Time [min]\"].entries\n",
    "        t = t-t[0]\n",
    "        V = sol[\"Terminal voltage [V]\"].entries\n",
    "        axs[0,0].plot(t, V, color=color, linestyle=\"solid\", label=C_rate)\n",
    "\n",
    "        # Currents\n",
    "        for current, ls in zip(currents,linestyles):\n",
    "            j = sol[current].entries\n",
    "            axs[0,1].plot(t, j, color=color, linestyle=ls)\n",
    "        \n",
    "        # Plated lithium capacity\n",
    "        Q_Li = sol[\"Loss of capacity to lithium plating [A.h]\"].entries\n",
    "        axs[1,0].plot(t, Q_Li, color=color, linestyle='solid')\n",
    "        \n",
    "        # Capacity vs time\n",
    "        Q_main = sol[\"Negative electrode volume-averaged concentration [mol.m-3]\"].entries * F * A * L_n / 3600\n",
    "        axs[1,1].plot(t, Q_main, color=color, linestyle='solid')\n",
    "        \n",
    "    axs[0,0].legend()\n",
    "    axs[0,0].set_ylabel(\"Voltage [V]\")\n",
    "    axs[0,1].set_ylabel(\"Interfacial current density [dimensionless]\")\n",
    "    axs[0,1].legend(('Deintercalation current','Stripping current','Total current'))\n",
    "    axs[1,0].set_ylabel(\"Plated lithium capacity [Ah]\")\n",
    "    axs[1,1].set_ylabel(\"Intercalated lithium capacity [Ah]\")\n",
    "    \n",
    "    for ax in axs.flat:\n",
    "        ax.set_xlabel(\"Time [minutes]\")\n",
    "\n",
    "    fig.tight_layout()\n",
    "    \n",
    "    return fig, axs\n",
    "\n",
    "plot(sims_reversible);"
   ]
  },
  {
   "cell_type": "markdown",
   "metadata": {},
   "source": [
    "The results show both similarities and differences with those of Ren et al. [8]. Notably, unlike Ren et al., this model uses equations [6] that result in a small but finite amount of plated lithium being present in the steady state."
   ]
  },
  {
   "cell_type": "markdown",
   "metadata": {},
   "source": [
    "Now solve the irreversible plating model and see how it compares."
   ]
  },
  {
   "cell_type": "code",
   "execution_count": null,
   "metadata": {},
   "outputs": [],
   "source": [
    "sims_irreversible = define_and_solve_sims(models[\"irreversible\"], experiments, parameter_values)"
   ]
  },
  {
   "cell_type": "code",
   "execution_count": null,
   "metadata": {},
   "outputs": [],
   "source": [
    "plot(sims_irreversible);"
   ]
  },
  {
   "cell_type": "markdown",
   "metadata": {},
   "source": [
    "Unlike in the reversible case, there is no steady state and the capacity degrades quickly. The lithium inventory decreases by around 40 mAh in just an hour, which is unrealistic. The low temperature fast charge simulations are run one more time, with the partially reversible plating model."
   ]
  },
  {
   "cell_type": "code",
   "execution_count": null,
   "metadata": {},
   "outputs": [],
   "source": [
    "sims_partially_reversible = define_and_solve_sims(models[\"partially reversible\"], experiments, parameter_values)"
   ]
  },
  {
   "cell_type": "code",
   "execution_count": null,
   "metadata": {},
   "outputs": [],
   "source": [
    "plot(sims_partially_reversible);"
   ]
  },
  {
   "cell_type": "markdown",
   "metadata": {},
   "source": [
    "The partially reversible plating model has features of both the reversible and irreversible models, which is reflected in the results. The plated lithium capacity decreases with time as lithium is reversibly stripped, but the final plated lithium capacity now depends on charge rate, indicating that some lithium was irreversibly plated during charge."
   ]
  },
  {
   "cell_type": "markdown",
   "metadata": {},
   "source": [
    "# References"
   ]
  },
  {
   "cell_type": "code",
   "execution_count": null,
   "metadata": {},
   "outputs": [],
   "source": [
    "pybamm.print_citations()"
   ]
  }
 ],
 "metadata": {
  "kernelspec": {
   "display_name": "Python 3.9.13 ('conda_jl')",
   "language": "python",
   "name": "python3"
  },
  "language_info": {
   "codemirror_mode": {
    "name": "ipython",
    "version": 3
   },
   "file_extension": ".py",
   "mimetype": "text/x-python",
   "name": "python",
   "nbconvert_exporter": "python",
   "pygments_lexer": "ipython3",
   "version": "3.9.13"
  },
  "toc": {
   "base_numbering": 1,
   "nav_menu": {},
   "number_sections": true,
   "sideBar": true,
   "skip_h1_title": false,
   "title_cell": "Table of Contents",
   "title_sidebar": "Contents",
   "toc_cell": false,
   "toc_position": {},
   "toc_section_display": true,
   "toc_window_display": true
  },
  "vscode": {
   "interpreter": {
    "hash": "612adcc456652826e82b485a1edaef831aa6d5abc680d008e93d513dd8724f14"
   }
  }
 },
 "nbformat": 4,
 "nbformat_minor": 4
}
