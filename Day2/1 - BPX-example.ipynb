{
  "cells": [
    {
      "attachments": {},
      "cell_type": "markdown",
      "metadata": {},
      "source": [
        "# Install BPX Standard"
      ]
    },
    {
      "cell_type": "code",
      "execution_count": null,
      "metadata": {
        "colab": {
          "base_uri": "https://localhost:8080/"
        },
        "id": "d0ibcP4kmHx_",
        "outputId": "c28adb5a-c8df-432d-9666-cc2b60c1b55d"
      },
      "outputs": [],
      "source": [
        "%pip install git+https://github.com/pybamm-team/BPX.git "
      ]
    },
    {
      "attachments": {},
      "cell_type": "markdown",
      "metadata": {},
      "source": [
        "We can now import the example parameter set,"
      ]
    },
    {
      "cell_type": "code",
      "execution_count": null,
      "metadata": {
        "colab": {
          "base_uri": "https://localhost:8080/"
        },
        "id": "96kca8v-mvL3",
        "outputId": "08f7bc00-95fb-4d06-b274-df635a14cf3d"
      },
      "outputs": [],
      "source": [
        "%%bash \n",
        "\n",
        "curl -o example-params.json https://raw.githubusercontent.com/pybamm-team/bpx-example/main/example-params.json"
      ]
    },
    {
      "attachments": {},
      "cell_type": "markdown",
      "metadata": {},
      "source": [
        "Creating a class for BPX,"
      ]
    },
    {
      "cell_type": "code",
      "execution_count": null,
      "metadata": {
        "id": "HUsx7EgCmJhs"
      },
      "outputs": [],
      "source": [
        "import bpx\n",
        "\n",
        "filename = '/content/example-params.json'\n",
        "my_params = bpx.parse_bpx_file(filename)"
      ]
    },
    {
      "cell_type": "code",
      "execution_count": null,
      "metadata": {
        "colab": {
          "base_uri": "https://localhost:8080/"
        },
        "id": "JzZqQq3NndG7",
        "outputId": "8acc6fae-f440-463b-e8d6-488b75ba55f9"
      },
      "outputs": [],
      "source": [
        "print('Initial temperature of cell:', my_params.parameterisation.cell.initial_temperature)"
      ]
    },
    {
      "cell_type": "code",
      "execution_count": null,
      "metadata": {
        "colab": {
          "base_uri": "https://localhost:8080/"
        },
        "id": "erm8dx-QoUyQ",
        "outputId": "729acdfd-e603-4c23-9489-ac9da18b9cc8"
      },
      "outputs": [],
      "source": [
        "my_params_dict = my_params.dict(by_alias=True)\n",
        "print('Initial temperature of cell:', my_params_dict[\"Parameterisation\"][\"Cell\"][\"Initial temperature [K]\"])"
      ]
    },
    {
      "cell_type": "code",
      "execution_count": null,
      "metadata": {
        "colab": {
          "base_uri": "https://localhost:8080/"
        },
        "id": "18WqDLf0ojFr",
        "outputId": "5723b78b-2129-4164-b0d7-80edfa924d07"
      },
      "outputs": [],
      "source": [
        "%pip install devtools"
      ]
    },
    {
      "cell_type": "code",
      "execution_count": null,
      "metadata": {
        "colab": {
          "base_uri": "https://localhost:8080/"
        },
        "id": "8kkCIZJ1oXcy",
        "outputId": "10432664-1579-403f-9ffa-c777aaffcb1b"
      },
      "outputs": [],
      "source": [
        "from devtools import pprint\n",
        "pprint(my_params)"
      ]
    },
    {
      "cell_type": "code",
      "execution_count": null,
      "metadata": {
        "colab": {
          "base_uri": "https://localhost:8080/"
        },
        "id": "2NykaU8loZm_",
        "outputId": "e6f769a0-6799-4729-e5d5-721b22064d06"
      },
      "outputs": [],
      "source": [
        "print(bpx.BPX.schema_json(indent=2))"
      ]
    }
  ],
  "metadata": {
    "colab": {
      "provenance": []
    },
    "kernelspec": {
      "display_name": ".pkg",
      "language": "python",
      "name": "python3"
    },
    "language_info": {
      "name": "python",
      "version": "3.9.16"
    },
    "vscode": {
      "interpreter": {
        "hash": "82a51de0550917f70c6022eaee7aedd6ef51cc1c76ea945211b55a7cbc8e0f5e"
      }
    }
  },
  "nbformat": 4,
  "nbformat_minor": 0
}
